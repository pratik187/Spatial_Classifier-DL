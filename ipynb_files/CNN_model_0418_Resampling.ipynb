{
 "cells": [
  {
   "cell_type": "markdown",
   "id": "a662c012",
   "metadata": {
    "id": "a662c012"
   },
   "source": [
    "<a href=\"https://colab.research.google.com/github/ecrc/GMC-DL/blob/Yiping%2FCNN_Stationary_Classification/CNN_Model_Training_Upload_Version.ipynb\" target=\"_parent\"><img src=\"https://colab.research.google.com/assets/colab-badge.svg\" alt=\"Open In Colab\"/></a>\n",
    "\n",
    "<table align=\"center\">\n",
    "  <td align=\"center\"><a target=\"_blank\" href=\"https://cemse.kaust.edu.sa/ecrc\">\n",
    "        <img src=\"https://user-images.githubusercontent.com/35196657/127348264-3e19521e-4833-4eaf-9d69-0cd60c98c06b.png\" style=\"padding-bottom:5px;\" />\n",
    "      Visit ECRC at KAUST</a></td>\n",
    "  <td align=\"center\"><a target=\"_blank\" href=\"https://colab.research.google.com/github/ecrc/GMC-DL/blob/Yiping%2FCNN_Stationary_Classification/CNN_Model_Training_Upload_Version.ipynb\">\n",
    "        <img src=\"https://i.ibb.co/2P3SLwK/colab.png\"  style=\"padding-bottom:5px;\" />Run in Google Colab</a></td>\n",
    "  <td align=\"center\"><a target=\"_blank\" href=\"https://github.com/ecrc/GMC-DL/blob/Yiping/CNN_Stationary_Classification/CNN_Model_Training_Upload_Version.ipynb\">\n",
    "        <img src=\"https://i.ibb.co/xfJbPmL/github.png\"  height=\"70px\" style=\"padding-bottom:5px;\"  />View Source on GitHub</a></td>\n",
    "</table>"
   ]
  },
  {
   "cell_type": "code",
   "execution_count": 169,
   "id": "a219fc42",
   "metadata": {
    "id": "a219fc42"
   },
   "outputs": [],
   "source": [
    "import numpy as np\n",
    "import os\n",
    "import sys\n",
    "import seaborn as sns\n",
    "import matplotlib.pylab as plt\n",
    "import math\n",
    "from pathlib import Path # Python >= 3.5, for folder creation\n",
    "import random # Random seed\n",
    "from tqdm import tqdm # Progress bar in for loop\n",
    "\n",
    "# Tensorflow\n",
    "import tensorflow as tf\n",
    "\n",
    "# from tensorflow.keras.layers import Dense, Flatten, Conv2D\n",
    "# from tensorflow.keras import Model\n",
    "from keras.layers import Dense, Flatten, Conv2D\n",
    "# from tensorflow.keras import Model\n",
    "from keras.models import Sequential,Model\n",
    "from keras.utils import to_categorical\n",
    "from scipy.interpolate import NearestNDInterpolator"
   ]
  },
  {
   "cell_type": "markdown",
   "id": "f2cfd4be",
   "metadata": {
    "id": "f2cfd4be"
   },
   "source": [
    "# Part 1: Data Preprocessing"
   ]
  },
  {
   "cell_type": "code",
   "execution_count": 170,
   "id": "da18a539",
   "metadata": {
    "id": "da18a539"
   },
   "outputs": [],
   "source": [
    "# Input: Stationary and nonstationary generated data\n",
    "#          Stationary files are located in directory_in_str_locs_stationary (locations) \n",
    "#          and directory_in_str_z_stationary (observed values)\n",
    "# \n",
    "#          File names: LOC_3600_sample_1.txt, LOC_3600_sample_2.txt, ... (locations)\n",
    "#                      Z_3600_sample_1.txt, Z_3600_sample_2.txt, ... (observed values)\n",
    "# \n",
    "#          Format examples: \n",
    "#          LOC_3600_sample_1.txt:         Z_3600_sample_1.txt\n",
    "#          0.012863,0.006928              1.264426\n",
    "#          0.019715,0.003342              -0.526158\n",
    "#          ...                            ...\n",
    "# \n",
    "#          step_size: Step for jumping the plot. \n",
    "#                     When step_size = 10, the notebook plots preprocessed data for number 0, 10, 20, ...\n",
    "# \n",
    "# Output: npz files containing preprocessed data inside save_data_string\n",
    "#         plots of the preprocessed data inside save_fig_string"
   ]
  },
  {
   "cell_type": "markdown",
   "id": "8af01157",
   "metadata": {
    "id": "8af01157"
   },
   "source": [
    "# Inputs"
   ]
  },
  {
   "cell_type": "code",
   "execution_count": 276,
   "id": "a2ef40d6",
   "metadata": {
    "id": "a2ef40d6"
   },
   "outputs": [],
   "source": [
    "# Folder places and filenames\n",
    "# Stationary\n",
    "directory_in_str_locs_stationary = \"stationary_data/\"\n",
    "directory_in_str_z_stationary = \"stationary_data/\"\n",
    "locs_string_stationary = \"LOC_\" # LOC_3600_sample_1.txt, LOC_3600_sample_2.txt, ...\n",
    "z_string_stationary = \"Z_\" # Z_3600_sample_1.txt, Z_3600_sample_2.txt, ...\n",
    "# Nonstationary\n",
    "directory_in_str_locs_nonstationary = \"nonstationary_data/\"\n",
    "directory_in_str_z_nonstationary = \"nonstationary_data/\"\n",
    "locs_string_nonstationary = \"LOC_\"\n",
    "z_string_nonstationary = \"Z_\""
   ]
  },
  {
   "cell_type": "code",
   "execution_count": 277,
   "id": "e95db1c8",
   "metadata": {
    "id": "e95db1c8"
   },
   "outputs": [],
   "source": [
    "# Saving places\n",
    "save_data_string = \"Processed_Data/\"\n",
    "save_fig_string = \"Processed_Data/Plots/\""
   ]
  },
  {
   "cell_type": "code",
   "execution_count": 278,
   "id": "0d06d325",
   "metadata": {
    "id": "0d06d325"
   },
   "outputs": [],
   "source": [
    "# Saving names for the npz\n",
    "npzfilename_stationary = \"Dat_stationary_0413Pratik.npz\";\n",
    "npzfilename_nonstationary = \"Dat_nonstationary_0413Pratik.npz\";"
   ]
  },
  {
   "cell_type": "code",
   "execution_count": 279,
   "id": "34f00e4b",
   "metadata": {
    "id": "34f00e4b"
   },
   "outputs": [],
   "source": [
    "# Step for jumping the plot. step_size=10: plot number 0, 10, 20, and so on. \n",
    "step_size = 1; # Step for jumping the plot. step_size=10: plot number 0, 10, 20, and so on. "
   ]
  },
  {
   "cell_type": "code",
   "execution_count": 280,
   "id": "1edf59d1",
   "metadata": {
    "id": "1edf59d1"
   },
   "outputs": [],
   "source": [
    "# Valid for both stationary and nonstationary data. \n",
    "# If the range of locations are determined manually\n",
    "manual_range_locs = False\n",
    "# If the range of observations are determined manually\n",
    "manual_range_z = False"
   ]
  },
  {
   "cell_type": "code",
   "execution_count": 281,
   "id": "3c912da9",
   "metadata": {
    "id": "3c912da9"
   },
   "outputs": [],
   "source": [
    "# Range of locations when manual_range_locs = True\n",
    "if manual_range_locs == True:\n",
    "    startx = 0\n",
    "    endx = 1\n",
    "    starty = 0\n",
    "    endy = 1"
   ]
  },
  {
   "cell_type": "code",
   "execution_count": 282,
   "id": "16b0cf1d",
   "metadata": {
    "id": "16b0cf1d"
   },
   "outputs": [],
   "source": [
    "# Range of observations when manual_range_z = True\n",
    "if manual_range_z == True:\n",
    "    m = 0\n",
    "    M = 1 # The range of observations is [m, M]. "
   ]
  },
  {
   "cell_type": "markdown",
   "id": "483757a5",
   "metadata": {
    "id": "483757a5"
   },
   "source": [
    "# Statioanry data preprocessing"
   ]
  },
  {
   "cell_type": "code",
   "execution_count": 283,
   "id": "12a139d5",
   "metadata": {
    "id": "12a139d5"
   },
   "outputs": [],
   "source": [
    "# Initialization \n",
    "directory_in_str_locs = directory_in_str_locs_stationary\n",
    "directory_in_str_z = directory_in_str_z_stationary\n",
    "locs_string = locs_string_stationary\n",
    "z_string = z_string_stationary"
   ]
  },
  {
   "cell_type": "code",
   "execution_count": 284,
   "id": "088cde2a",
   "metadata": {
    "id": "088cde2a"
   },
   "outputs": [],
   "source": [
    "directory_locs = os.fsencode(directory_in_str_locs)\n",
    "data_folder1_locs = os.listdir(directory_locs)"
   ]
  },
  {
   "cell_type": "code",
   "execution_count": 285,
   "id": "6aa0ea3a",
   "metadata": {
    "id": "6aa0ea3a"
   },
   "outputs": [],
   "source": [
    "location_file_list = []\n",
    "Z_file_list = []\n",
    "for path, subdirs, files in os.walk(directory_locs):\n",
    "    for name in files:\n",
    "        name_string = name.decode(\"utf-8\")\n",
    "        if name_string.startswith(locs_string): \n",
    "            location_file_path = os.path.join(path, name)\n",
    "            location_file_path = location_file_path.decode(\"utf-8\")\n",
    "            z_file_path = location_file_path.replace(locs_string, z_string, 1)\n",
    "            location_file_list.append(location_file_path)\n",
    "            Z_file_list.append(z_file_path)"
   ]
  },
  {
   "cell_type": "code",
   "execution_count": 286,
   "id": "a358abfd",
   "metadata": {
    "id": "a358abfd"
   },
   "outputs": [],
   "source": [
    "# loc_files is the file name for plotting. \n",
    "loc_files = []\n",
    "for i in range(len(location_file_list)): \n",
    "    replace_res = location_file_list[i].replace(directory_in_str_locs, \"\")\n",
    "    replace_res = replace_res.replace(\"\\\\\", \"_\")\n",
    "    loc_files.append(replace_res)"
   ]
  },
  {
   "cell_type": "code",
   "execution_count": 287,
   "id": "daf7de55",
   "metadata": {
    "id": "daf7de55"
   },
   "outputs": [],
   "source": [
    "# Grid row and column\n",
    "GRID_ROWS = 10\n",
    "GRID_COLS = 10\n",
    "\n",
    "# Initialization continued\n",
    "ndata = len(location_file_list)\n",
    "#ndata = 100 # Test\n",
    "stationary_x_train = np.zeros((ndata,GRID_COLS,GRID_ROWS))\n",
    "\n",
    "stationary_y_train = np.zeros(ndata) # Zero = the model is stationary. One = nonstationary. "
   ]
  },
  {
   "cell_type": "code",
   "execution_count": 288,
   "id": "9b08ac81",
   "metadata": {
    "id": "9b08ac81"
   },
   "outputs": [],
   "source": [
    "# Initialization continued\n",
    "param_val_is_stat = 1;\n",
    "npzfilename = npzfilename_stationary;"
   ]
  },
  {
   "cell_type": "code",
   "execution_count": 289,
   "id": "31493d45",
   "metadata": {
    "id": "31493d45"
   },
   "outputs": [],
   "source": [
    "# Initialization continued\n",
    "param_is_stat = np.ones(ndata)\n",
    "#param_samplenum.fill(param_val_samplenum)\n",
    "param_is_stat.fill(param_val_is_stat)\n",
    "\n",
    "param_list = []"
   ]
  },
  {
   "cell_type": "code",
   "execution_count": 290,
   "id": "30dad01a",
   "metadata": {
    "id": "30dad01a",
    "outputId": "6ac6037e-c941-442e-bf92-9f6f4ee91fc8",
    "scrolled": true
   },
   "outputs": [
    {
     "name": "stderr",
     "output_type": "stream",
     "text": [
      "100%|██████████| 10000/10000 [00:43<00:00, 231.21it/s]\n"
     ]
    }
   ],
   "source": [
    "# Main program for data preprocessing\n",
    "\n",
    "for i_folder in tqdm(range(ndata)):\n",
    "    # Append the parameter to samples. \n",
    "    param_dict = {\n",
    "        \"sample\": i_folder,\n",
    "        \"is_stat\": param_val_is_stat\n",
    "    }\n",
    "    param_list.append(param_dict)\n",
    "    #==========\n",
    "    # Data extraction\n",
    "    #===========\n",
    "    # Get location and observation files for each subsample\n",
    "    loc_text = location_file_list[i_folder]\n",
    "    z_text = Z_file_list[i_folder]\n",
    "    # Load the location and z files\n",
    "    location_file = open(loc_text)\n",
    "    Z_value_file = open(z_text)\n",
    "#     print(location_file)\n",
    "    \n",
    "    locations = np.loadtxt(location_file, delimiter=',')\n",
    "    Z_values = np.loadtxt(Z_value_file, delimiter=',')\n",
    "    \n",
    "    ### random selection of subsample of locations\n",
    "    idx = np.random.randint(len(locations), size=2500)\n",
    "    locations = locations[idx,:]\n",
    "    Z_values = Z_values[idx]\n",
    "    \n",
    "    \n",
    "    #==========\n",
    "    # End of data extraction\n",
    "    #==========\n",
    "    # Compute the output grid\n",
    "    output_arr = np.zeros((GRID_ROWS,GRID_COLS))\n",
    "    grid_sum_arr = np.zeros((GRID_ROWS,GRID_COLS))\n",
    "    grid_div_arr = np.zeros((GRID_ROWS,GRID_COLS))\n",
    "    if manual_range_locs == False:\n",
    "        # Start and end locations (Auto)\n",
    "#         print(locations[:,0],locations[:,1])\n",
    "        startx = min(locations[:, 0])\n",
    "        starty = min(locations[:, 1])\n",
    "        endx = max(locations[:, 0])\n",
    "        endy = max(locations[:, 1])\n",
    "#     print(locations)\n",
    "    locations[:,0] = (locations[:, 0] - startx)/(endx - startx)\n",
    "    locations[:,1] = (locations[:, 1] - starty)/(endy - starty)\n",
    "#     print(locations)\n",
    "    \n",
    "    X = np.linspace(0, 1,GRID_COLS)\n",
    "    Y = np.linspace(0, 1,GRID_ROWS)\n",
    "    X, Y = np.meshgrid(X, Y)  # 2D grid for interpolation\n",
    "    interp = NearestNDInterpolator(locations, Z_values)\n",
    "    Z = interp(X, Y)\n",
    "\n",
    "    if manual_range_z == False:\n",
    "        # Normalize (Auto)\n",
    "        m = np.min(Z)\n",
    "        M = np.max(Z)\n",
    "    if m == M:\n",
    "        output_arr = np.ones((GRID_ROWS,GRID_COLS)) * 0.5 # All 0.5\n",
    "    else: \n",
    "        # Range from 0 to 1. \n",
    "        Z = (Z - m) / (M - m)\n",
    "    # Save results\n",
    "    stationary_x_train[i_folder] = Z"
   ]
  },
  {
   "cell_type": "code",
   "execution_count": 291,
   "id": "b8325935",
   "metadata": {},
   "outputs": [
    {
     "data": {
      "text/plain": [
       "(10000, 10, 10)"
      ]
     },
     "execution_count": 291,
     "metadata": {},
     "output_type": "execute_result"
    }
   ],
   "source": [
    "stationary_x_train.shape"
   ]
  },
  {
   "cell_type": "code",
   "execution_count": 292,
   "id": "1d720662",
   "metadata": {},
   "outputs": [
    {
     "data": {
      "text/plain": [
       "'Dat_stationary_0413Pratik.npz'"
      ]
     },
     "execution_count": 292,
     "metadata": {},
     "output_type": "execute_result"
    }
   ],
   "source": [
    "npzfilename"
   ]
  },
  {
   "cell_type": "code",
   "execution_count": 293,
   "id": "453a2685",
   "metadata": {
    "id": "453a2685"
   },
   "outputs": [],
   "source": [
    "# Save to file\n",
    "nparams = np.array(param_list)\n",
    "Path(save_data_string).mkdir(parents=True, exist_ok=True)\n",
    "np.savez( save_data_string + npzfilename, x = stationary_x_train, y = stationary_y_train, params = nparams)"
   ]
  },
  {
   "cell_type": "code",
   "execution_count": 189,
   "id": "452194ce",
   "metadata": {
    "id": "452194ce",
    "outputId": "136b2f17-b93c-4545-df2b-e435330de56a"
   },
   "outputs": [],
   "source": [
    "# Path(save_fig_string).mkdir(parents=True, exist_ok=True)\n",
    "# for i in tqdm(range(0 , len(loc_files) , int(step_size))):\n",
    "# #for i in tqdm(range(0, 100, int(step_size))): \n",
    "#     plt.figure()\n",
    "#     ax = sns.heatmap( stationary_x_train[i] , linewidth=0)\n",
    "#     plt.savefig(save_fig_string + npzfilename + loc_files[i] +\".png\")\n",
    "#     plt.close()"
   ]
  },
  {
   "cell_type": "code",
   "execution_count": 190,
   "id": "d2ea56bd",
   "metadata": {
    "id": "d2ea56bd"
   },
   "outputs": [
    {
     "data": {
      "text/plain": [
       "<AxesSubplot:>"
      ]
     },
     "execution_count": 190,
     "metadata": {},
     "output_type": "execute_result"
    },
    {
     "data": {
      "image/png": "[encoded data removed]",
      "text/plain": [
       "<Figure size 432x288 with 2 Axes>"
      ]
     },
     "metadata": {
      "needs_background": "light"
     },
     "output_type": "display_data"
    }
   ],
   "source": [
    "sns.heatmap( stationary_x_train[700] , linewidth=0)"
   ]
  },
  {
   "cell_type": "markdown",
   "id": "1b6e5fd7",
   "metadata": {
    "id": "1b6e5fd7"
   },
   "source": [
    "# Nonstationary data preprocessing"
   ]
  },
  {
   "cell_type": "code",
   "execution_count": 231,
   "id": "1810ba25",
   "metadata": {
    "id": "1810ba25"
   },
   "outputs": [],
   "source": [
    "# Initialization \n",
    "directory_in_str_locs = directory_in_str_locs_nonstationary\n",
    "directory_in_str_z = directory_in_str_z_nonstationary\n",
    "locs_string = locs_string_nonstationary\n",
    "z_string = z_string_nonstationary"
   ]
  },
  {
   "cell_type": "code",
   "execution_count": 232,
   "id": "f87c0164",
   "metadata": {
    "id": "f87c0164"
   },
   "outputs": [],
   "source": [
    "directory_locs = os.fsencode(directory_in_str_locs)\n",
    "data_files_locs = os.listdir(directory_locs)"
   ]
  },
  {
   "cell_type": "code",
   "execution_count": 233,
   "id": "04923c3f",
   "metadata": {
    "id": "04923c3f"
   },
   "outputs": [],
   "source": [
    "# list of filename\n",
    "loc_files = [f for f in os.listdir(directory_in_str_locs_nonstationary) if f.startswith(locs_string_nonstationary)]"
   ]
  },
  {
   "cell_type": "code",
   "execution_count": 234,
   "id": "be53194b",
   "metadata": {
    "id": "be53194b"
   },
   "outputs": [],
   "source": [
    "# Grid row and column\n",
    "GRID_ROWS = 10\n",
    "GRID_COLS = 10\n",
    "\n",
    "# Initialization continued\n",
    "ndata = len(loc_files)\n",
    "#ndata = 100 # Test\n",
    "nonstationary_x_train = np.zeros((ndata,GRID_COLS,GRID_ROWS))\n",
    "\n",
    "nonstationary_y_train = np.ones(ndata) # Zero = the model is stationary. One = nonstationary. "
   ]
  },
  {
   "cell_type": "code",
   "execution_count": 235,
   "id": "4ae7d323",
   "metadata": {
    "id": "4ae7d323"
   },
   "outputs": [],
   "source": [
    "# Initialization continued\n",
    "param_is_stat = np.ones(ndata)\n",
    "#param_samplenum.fill(param_val_samplenum)\n",
    "param_val_is_stat = 0; # Nonstationary. \n",
    "param_is_stat.fill(param_val_is_stat)\n",
    "\n",
    "param_list = []"
   ]
  },
  {
   "cell_type": "code",
   "execution_count": 236,
   "id": "bfe18fbb",
   "metadata": {
    "id": "bfe18fbb"
   },
   "outputs": [],
   "source": [
    "# Initialization continued\n",
    "npzfilename = npzfilename_nonstationary;"
   ]
  },
  {
   "cell_type": "code",
   "execution_count": 237,
   "id": "6b9d70cc",
   "metadata": {
    "id": "6b9d70cc",
    "outputId": "d7d84fda-72c2-45cc-8a10-96916c0c0901"
   },
   "outputs": [
    {
     "name": "stderr",
     "output_type": "stream",
     "text": [
      "100%|██████████| 10000/10000 [00:31<00:00, 317.52it/s]\n"
     ]
    }
   ],
   "source": [
    "# Main program for data preprocessing\n",
    "for i_folder in tqdm(range(ndata)):\n",
    "    # Append the parameter to samples. \n",
    "    param_dict = {\n",
    "        \"sample\": i_folder,\n",
    "        \"is_stat\": param_val_is_stat\n",
    "    }\n",
    "    param_list.append(param_dict)\n",
    "    #==========\n",
    "    # Data extraction\n",
    "    #===========\n",
    "    # Get paired location and observation files\n",
    "#     print(loc_files[i])\n",
    "    loc_text = loc_files[i_folder]\n",
    "    z_text = loc_text.replace(locs_string, z_string, 1)\n",
    "    # Load the location and z files\n",
    "    location_file = open(directory_in_str_locs + loc_text)\n",
    "    Z_value_file = open(directory_in_str_z + z_text)\n",
    "    locations = np.loadtxt(location_file, delimiter=',')\n",
    "    Z_values = np.loadtxt(Z_value_file, delimiter=',')\n",
    "    \n",
    "    ### random selection of subsample of locations\n",
    "    idx = np.random.randint(len(locations), size=2500)\n",
    "    locations = locations[idx,:]\n",
    "    Z_values = Z_values[idx]\n",
    "    \n",
    "    \n",
    "    #==========\n",
    "    # End of data extraction\n",
    "    #==========\n",
    "    # Check if there is NaN value\n",
    "    if any(np.isnan(Z_values)) == True:\n",
    "        print(\"Warning: NaN values occur in i=\", i, \"; location file:\", loc_text)\n",
    "        Z_values[np.isnan(Z_values)] = 0\n",
    "    # Compute the output grid\n",
    "    output_arr = np.zeros((GRID_ROWS,GRID_COLS))\n",
    "    grid_sum_arr = np.zeros((GRID_ROWS,GRID_COLS))\n",
    "    grid_div_arr = np.zeros((GRID_ROWS,GRID_COLS))\n",
    "    if manual_range_locs == False:\n",
    "        # Start and end locations (Auto)\n",
    "#         print(locations[:,0],locations[:,1])\n",
    "        startx = min(locations[:, 0])\n",
    "        starty = min(locations[:, 1])\n",
    "        endx = max(locations[:, 0])\n",
    "        endy = max(locations[:, 1])\n",
    "#     print(locations)\n",
    "    locations[:,0] = (locations[:, 0] - startx)/(endx - startx)\n",
    "    locations[:,1] = (locations[:, 1] - starty)/(endy - starty)\n",
    "#     print(locations)\n",
    "    \n",
    "    X = np.linspace(0, 1,GRID_COLS)\n",
    "    Y = np.linspace(0, 1,GRID_ROWS)\n",
    "    X, Y = np.meshgrid(X, Y)  # 2D grid for interpolation\n",
    "    interp = NearestNDInterpolator(locations, Z_values)\n",
    "    Z = interp(X, Y)\n",
    "#     break\n",
    "#     # Get the summation and division\n",
    "#     for j in range(locations.shape[0]):\n",
    "#         # Get the grid locations (x, y). Result: [y][x], because x is column (x=0 is the first column). \n",
    "#         x = int(math.floor((locations[j][0] - startx) * GRID_COLS / (endx - startx)))\n",
    "#         y = int(math.floor((locations[j][1] - starty) * GRID_ROWS / (endy - starty)))\n",
    "#         # For boundary value problems\n",
    "#         x = min(x, GRID_COLS - 1)\n",
    "#         y = min(y, GRID_ROWS - 1)\n",
    "#         val = Z_values[j]\n",
    "#         # Add the summation and division\n",
    "#         grid_sum_arr[y][x] = grid_sum_arr[y][x] + val\n",
    "#         grid_div_arr[y][x] += 1\n",
    "#     # Generate output\n",
    "#     for j1 in range(GRID_ROWS):\n",
    "#         for j2 in range(GRID_COLS):\n",
    "#             if grid_div_arr[j1][j2] > 0:\n",
    "#                 # Mean value in a cell\n",
    "#                 output_arr[j1][j2] += (grid_sum_arr[j1][j2] / grid_div_arr[j1][j2])\n",
    "#             else:\n",
    "#                 # Mean value over all regions if the cell has no locations\n",
    "#                 output_arr[j1][j2] += np.mean(Z_values)\n",
    "    if manual_range_z == False:\n",
    "        # Normalize (Auto)\n",
    "        m = np.min(Z)\n",
    "        M = np.max(Z)\n",
    "    if m == M:\n",
    "        output_arr = np.ones((GRID_ROWS,GRID_COLS)) * 0.5 # All 0.5\n",
    "    else: \n",
    "        # Range from 0 to 1. \n",
    "        Z = (Z - m) / (M - m)\n",
    "    # Save results\n",
    "    nonstationary_x_train[i_folder] = Z"
   ]
  },
  {
   "cell_type": "code",
   "execution_count": 238,
   "id": "fa692f3b",
   "metadata": {},
   "outputs": [],
   "source": [
    "# nonstationary_x_train = nonstationary_x_train.reshape(504,100,50,2)"
   ]
  },
  {
   "cell_type": "code",
   "execution_count": 239,
   "id": "0c76488c",
   "metadata": {
    "id": "4437ed22"
   },
   "outputs": [],
   "source": [
    "# Save to file\n",
    "nparams = np.array(param_list)\n",
    "Path(save_data_string).mkdir(parents=True, exist_ok=True)\n",
    "np.savez( save_data_string + npzfilename, x = nonstationary_x_train, y = nonstationary_y_train, params = nparams)"
   ]
  },
  {
   "cell_type": "code",
   "execution_count": 240,
   "id": "ebce70a1",
   "metadata": {
    "id": "ebce70a1",
    "outputId": "6f8a8b30-77a7-4cfe-fbfb-f9c137053dc0"
   },
   "outputs": [],
   "source": [
    "# Path(save_fig_string).mkdir(parents=True, exist_ok=True)\n",
    "# for i in tqdm(range(0 , len(loc_files) , int(step_size))):\n",
    "# #for i in tqdm(range(0, 100, int(step_size))): \n",
    "#     plt.figure()\n",
    "#     ax = sns.heatmap( nonstationary_x_train[i] , linewidth=0)\n",
    "#     plt.savefig(save_fig_string + npzfilename + loc_files[i] +\".png\")\n",
    "#     plt.close()"
   ]
  },
  {
   "cell_type": "code",
   "execution_count": 241,
   "id": "bd4f534b",
   "metadata": {},
   "outputs": [
    {
     "data": {
      "text/plain": [
       "<AxesSubplot:>"
      ]
     },
     "execution_count": 241,
     "metadata": {},
     "output_type": "execute_result"
    },
    {
     "data": {
      "image/png": "[encoded data removed]",
      "text/plain": [
       "<Figure size 432x288 with 2 Axes>"
      ]
     },
     "metadata": {
      "needs_background": "light"
     },
     "output_type": "display_data"
    }
   ],
   "source": [
    "sns.heatmap( nonstationary_x_train[1], linewidth=0)"
   ]
  },
  {
   "cell_type": "markdown",
   "id": "32267a63",
   "metadata": {
    "id": "32267a63"
   },
   "source": [
    "# Part 2: CNN Model Training"
   ]
  },
  {
   "cell_type": "code",
   "execution_count": 242,
   "id": "945c25cc",
   "metadata": {
    "id": "945c25cc"
   },
   "outputs": [],
   "source": [
    "# Train the CNN model that can determine whether a spatial data is stationary. \n",
    "# Input: \n",
    "#    Preprocessed data in npz format: stationary_npz_filename (stationary) and nonstationary_npz_filename (nonstationary). \n",
    "# \n",
    "#    Location for saving the CNN model: model_saving_location. \n",
    "# \n",
    "#    Split rate: split_size_stationary (stationary) and split_size_nonstationary (nonstationary). \n",
    "#                The training data will be split following the split size. \n",
    "#                For instance, when split_size_stationary = 0.8, \n",
    "#                then 80% stationary data is the training data, and the rest 20% are the test data. \n",
    "# \n",
    "# Output: \n",
    "#    Trained CNN model saved in model_saving_location. \n",
    "#    Histogram and outlines for the correct rate of the CNN training model. "
   ]
  },
  {
   "cell_type": "markdown",
   "id": "6f2f170e",
   "metadata": {
    "id": "6f2f170e"
   },
   "source": [
    "# Inputs"
   ]
  },
  {
   "cell_type": "code",
   "execution_count": 318,
   "id": "9b10468a",
   "metadata": {
    "id": "9b10468a"
   },
   "outputs": [],
   "source": [
    "# Filename for preprocessing data (.npz format)\n",
    "save_data_string = \"Spatial_Classifier-DL/Processed_Data/\"\n",
    "stationary_npz_filename = save_data_string + npzfilename_stationary\n",
    "nonstationary_npz_filename = save_data_string + npzfilename_nonstationary"
   ]
  },
  {
   "cell_type": "code",
   "execution_count": 319,
   "id": "2ca4dda4",
   "metadata": {
    "id": "2ca4dda4"
   },
   "outputs": [],
   "source": [
    "# Places for location saving\n",
    "model_saving_location = 'Model_Example'"
   ]
  },
  {
   "cell_type": "code",
   "execution_count": 320,
   "id": "ba465f77",
   "metadata": {
    "id": "ba465f77"
   },
   "outputs": [],
   "source": [
    "# Split rate for stationary data\n",
    "split_size_stationary = 0.9\n",
    "# Split rate for nonstationary data\n",
    "split_size_nonstationary = 0.9"
   ]
  },
  {
   "cell_type": "markdown",
   "id": "d39f189a",
   "metadata": {
    "id": "d39f189a"
   },
   "source": [
    "# Loading Data"
   ]
  },
  {
   "cell_type": "code",
   "execution_count": 321,
   "id": "ffc13616",
   "metadata": {
    "id": "ffc13616",
    "outputId": "28541387-3746-489c-a8ec-4efaf7fc55b3"
   },
   "outputs": [
    {
     "name": "stdout",
     "output_type": "stream",
     "text": [
      "(10000, 10, 10)\n"
     ]
    }
   ],
   "source": [
    "# Stationary data - load npz file\n",
    "npzfile = np.load(stationary_npz_filename, allow_pickle=True)\n",
    "stationary_x_all = npzfile['x'] # Preprocessed data\n",
    "stationary_y_all = npzfile['y'] # Stationary or nonstationary\n",
    "stationary_params = npzfile['params']\n",
    "print(stationary_x_all.shape)"
   ]
  },
  {
   "cell_type": "code",
   "execution_count": 323,
   "id": "dd88d38f",
   "metadata": {
    "id": "dd88d38f",
    "outputId": "40b9b8f3-0bdb-42ee-9203-ef2f3cd5de7a"
   },
   "outputs": [
    {
     "name": "stdout",
     "output_type": "stream",
     "text": [
      "(10000, 10, 10)\n"
     ]
    }
   ],
   "source": [
    "# Nonstationary data - load npz file\n",
    "npzfile = np.load(nonstationary_npz_filename, allow_pickle=True)\n",
    "tx = npzfile['x']\n",
    "nonstationary_x_all = npzfile['x'] # Preprocessed data\n",
    "nonstationary_y_all = npzfile['y'] # Stationary or nonstationary\n",
    "nonstationary_params = npzfile['params']\n",
    "print(nonstationary_x_all.shape)"
   ]
  },
  {
   "cell_type": "markdown",
   "id": "9669e785",
   "metadata": {
    "id": "9669e785"
   },
   "source": [
    "# Randomising and Splitting Data"
   ]
  },
  {
   "cell_type": "code",
   "execution_count": 299,
   "id": "95a09403",
   "metadata": {
    "id": "95a09403",
    "outputId": "83f61a61-2d08-4dc2-c330-0652d4ff55ee"
   },
   "outputs": [
    {
     "name": "stdout",
     "output_type": "stream",
     "text": [
      "9000\n",
      "1000\n",
      "9000\n",
      "1000\n"
     ]
    }
   ],
   "source": [
    "# Split for stationary data\n",
    "total_size_stationary = int(len(stationary_x_all))\n",
    "training_size_stationary = int(total_size_stationary * split_size_stationary)\n",
    "test_size_stationary = total_size_stationary - training_size_stationary\n",
    "print(training_size_stationary)\n",
    "print(test_size_stationary)\n",
    "\n",
    "# Split for nonstationary data\n",
    "total_size_nonstationary = int(len(nonstationary_x_all))\n",
    "training_size_nonstationary = int(total_size_nonstationary * split_size_nonstationary)\n",
    "test_size_nonstationary = total_size_nonstationary - training_size_nonstationary\n",
    "print(training_size_nonstationary)\n",
    "print(test_size_nonstationary)"
   ]
  },
  {
   "cell_type": "code",
   "execution_count": 300,
   "id": "4a6745db",
   "metadata": {
    "id": "4a6745db"
   },
   "outputs": [],
   "source": [
    "# Shuffler for stationary and nonstationary\n",
    "random.seed(220)\n",
    "shuffler_stationary = random.sample(range(total_size_stationary), total_size_stationary)\n",
    "shuffler_nonstationary = random.sample(range(total_size_nonstationary), total_size_nonstationary)"
   ]
  },
  {
   "cell_type": "code",
   "execution_count": 301,
   "id": "2f0b2f56",
   "metadata": {
    "id": "2f0b2f56"
   },
   "outputs": [],
   "source": [
    "# Grid row and column\n",
    "GRID_ROWS = 10\n",
    "GRID_COLS = 10\n",
    "# Shuffle data\n",
    "stationary_x_shuffled = stationary_x_all[shuffler_stationary, 0:GRID_ROWS, 0:GRID_COLS]\n",
    "stationary_y_shuffled = stationary_y_all[shuffler_stationary]\n",
    "stationary_params_shuffled = stationary_params[shuffler_stationary, ]\n",
    "nonstationary_x_shuffled = nonstationary_x_all[shuffler_nonstationary, 0:GRID_ROWS, 0:GRID_COLS]\n",
    "nonstationary_y_shuffled = nonstationary_y_all[shuffler_nonstationary]\n",
    "nonstationary_params_shuffled = nonstationary_params[shuffler_nonstationary, ]"
   ]
  },
  {
   "cell_type": "code",
   "execution_count": 302,
   "id": "b84be092",
   "metadata": {
    "id": "b84be092"
   },
   "outputs": [],
   "source": [
    "# Training data\n",
    "stationary_x_train = stationary_x_shuffled[0:training_size_stationary, 0:GRID_ROWS, 0:GRID_COLS]\n",
    "stationary_y_train = stationary_y_shuffled[0:training_size_stationary]\n",
    "stationary_params_train = stationary_params_shuffled[0:training_size_stationary, ]\n",
    "nonstationary_x_train = nonstationary_x_shuffled[0:training_size_nonstationary, 0:GRID_ROWS, 0:GRID_COLS]\n",
    "nonstationary_y_train = nonstationary_y_shuffled[0:training_size_nonstationary]\n",
    "nonstationary_params_train = nonstationary_params_shuffled[0:training_size_nonstationary, ]\n",
    "# Test data\n",
    "stationary_x_test = stationary_x_shuffled[training_size_stationary:, 0:GRID_ROWS, 0:GRID_COLS]\n",
    "stationary_y_test = stationary_y_shuffled[training_size_stationary:]\n",
    "stationary_params_test = stationary_params_shuffled[training_size_stationary:, ]\n",
    "nonstationary_x_test = nonstationary_x_shuffled[training_size_nonstationary:, 0:GRID_ROWS, 0:GRID_COLS]\n",
    "nonstationary_y_test = nonstationary_y_shuffled[training_size_nonstationary:]\n",
    "nonstationary_params_test = nonstationary_params_shuffled[training_size_nonstationary:, ]\n",
    "# Combine\n",
    "x_train = np.concatenate((stationary_x_train,nonstationary_x_train))\n",
    "y_train = np.concatenate((stationary_y_train,nonstationary_y_train))\n",
    "params_train = np.concatenate((stationary_params_train,nonstationary_params_train))\n",
    "x_test = np.concatenate((stationary_x_test,nonstationary_x_test))\n",
    "y_test = np.concatenate((stationary_y_test,nonstationary_y_test))\n",
    "params_test = np.concatenate((stationary_params_test,nonstationary_params_test))"
   ]
  },
  {
   "cell_type": "code",
   "execution_count": 303,
   "id": "64cb6e99",
   "metadata": {
    "id": "64cb6e99"
   },
   "outputs": [],
   "source": [
    "# Add a channels dimension\n",
    "# x_train = x_train[..., tf.newaxis].astype(\"float32\")\n",
    "# x_test = x_test[..., tf.newaxis].astype(\"float32\")\n",
    "\n",
    "### Check the x_train and x_test shapes before reshaping\n",
    "x_train = x_train.reshape(x_train.shape[0], 10, 10, 1)\n",
    "x_test = x_test.reshape(x_test.shape[0], 10, 10, 1)"
   ]
  },
  {
   "cell_type": "code",
   "execution_count": 304,
   "id": "502ca71f",
   "metadata": {
    "id": "502ca71f",
    "outputId": "ae794f5d-e0d2-4e76-e040-af9b7c4a4476"
   },
   "outputs": [
    {
     "name": "stdout",
     "output_type": "stream",
     "text": [
      "(18000, 10, 10, 1)\n",
      "(2000, 10, 10, 1)\n"
     ]
    }
   ],
   "source": [
    "print(x_train.shape)\n",
    "print(x_test.shape)"
   ]
  },
  {
   "cell_type": "code",
   "execution_count": 305,
   "id": "312ccf36",
   "metadata": {},
   "outputs": [],
   "source": [
    "y_train = to_categorical(y_train)\n",
    "y_test = to_categorical(y_test)"
   ]
  },
  {
   "cell_type": "markdown",
   "id": "1ea0f2a7",
   "metadata": {
    "id": "1ea0f2a7"
   },
   "source": [
    "# Start training model"
   ]
  },
  {
   "cell_type": "code",
   "execution_count": 306,
   "id": "7734608f",
   "metadata": {
    "id": "7734608f"
   },
   "outputs": [],
   "source": [
    "training_size = x_train.shape[0]\n",
    "train_ds = tf.data.Dataset.from_tensor_slices(\n",
    "    (x_train, y_train)).shuffle(training_size).batch(32)\n",
    "\n",
    "test_ds = tf.data.Dataset.from_tensor_slices((x_test, y_test)).batch(32)"
   ]
  },
  {
   "cell_type": "code",
   "execution_count": 307,
   "id": "7da97a04",
   "metadata": {
    "id": "7da97a04",
    "outputId": "9885867d-b113-4679-fee5-e1e0f79cce6d"
   },
   "outputs": [
    {
     "name": "stdout",
     "output_type": "stream",
     "text": [
      "<class 'tensorflow.python.data.ops.dataset_ops.BatchDataset'>\n"
     ]
    }
   ],
   "source": [
    "print(type(train_ds))"
   ]
  },
  {
   "cell_type": "markdown",
   "id": "b32129af",
   "metadata": {
    "id": "b32129af"
   },
   "source": [
    "# Model"
   ]
  },
  {
   "cell_type": "code",
   "execution_count": 308,
   "id": "779934a5",
   "metadata": {},
   "outputs": [],
   "source": [
    "#create model\n",
    "\n",
    "model = Sequential()\n",
    "#add model layers\n",
    "# model.add(Conv2D(64, kernel_size=3, activation=\"relu\", input_shape=(100, 100, 1)))\n",
    "model.add(Conv2D(32, kernel_size=3, activation=\"relu\"))\n",
    "model.add(Conv2D(64, kernel_size=5, activation=\"relu\"))\n",
    "model.add(Flatten())\n",
    "model.add(Dense(128, activation='relu'))\n",
    "model.add(Dense(2, activation='softmax'))"
   ]
  },
  {
   "cell_type": "code",
   "execution_count": 309,
   "id": "bc3409de",
   "metadata": {},
   "outputs": [],
   "source": [
    "#compile model using accuracy to measure model performance\n",
    "model.compile(optimizer='adam', loss='categorical_crossentropy', metrics=['accuracy'])"
   ]
  },
  {
   "cell_type": "code",
   "execution_count": 310,
   "id": "22b30bc3",
   "metadata": {
    "scrolled": true
   },
   "outputs": [
    {
     "name": "stdout",
     "output_type": "stream",
     "text": [
      "Train on 18000 samples, validate on 2000 samples\n",
      "Epoch 1/15\n",
      " - 2s - loss: 0.6937 - accuracy: 0.4913 - val_loss: 0.6932 - val_accuracy: 0.5000\n",
      "Epoch 2/15\n",
      " - 2s - loss: 0.6932 - accuracy: 0.5002 - val_loss: 0.6932 - val_accuracy: 0.5000\n",
      "Epoch 3/15\n",
      " - 2s - loss: 0.6932 - accuracy: 0.4964 - val_loss: 0.6932 - val_accuracy: 0.5000\n",
      "Epoch 4/15\n",
      " - 2s - loss: 0.6932 - accuracy: 0.4987 - val_loss: 0.6932 - val_accuracy: 0.4995\n",
      "Epoch 5/15\n",
      " - 2s - loss: 0.6932 - accuracy: 0.4996 - val_loss: 0.6932 - val_accuracy: 0.4990\n",
      "Epoch 6/15\n",
      " - 2s - loss: 0.6932 - accuracy: 0.4969 - val_loss: 0.6932 - val_accuracy: 0.5000\n",
      "Epoch 7/15\n",
      " - 2s - loss: 0.6932 - accuracy: 0.4946 - val_loss: 0.6932 - val_accuracy: 0.5000\n",
      "Epoch 8/15\n",
      " - 2s - loss: 0.6932 - accuracy: 0.4959 - val_loss: 0.6932 - val_accuracy: 0.5000\n",
      "Epoch 9/15\n"
     ]
    },
    {
     "ename": "KeyboardInterrupt",
     "evalue": "",
     "output_type": "error",
     "traceback": [
      "\u001b[0;31m---------------------------------------------------------------------------\u001b[0m",
      "\u001b[0;31mKeyboardInterrupt\u001b[0m                         Traceback (most recent call last)",
      "\u001b[0;32m<ipython-input-310-fb7f7df40ed1>\u001b[0m in \u001b[0;36m<module>\u001b[0;34m\u001b[0m\n\u001b[1;32m      1\u001b[0m \u001b[0;31m#train the model\u001b[0m\u001b[0;34m\u001b[0m\u001b[0;34m\u001b[0m\u001b[0;34m\u001b[0m\u001b[0m\n\u001b[0;32m----> 2\u001b[0;31m \u001b[0mmodel\u001b[0m\u001b[0;34m.\u001b[0m\u001b[0mfit\u001b[0m\u001b[0;34m(\u001b[0m\u001b[0mx_train\u001b[0m\u001b[0;34m,\u001b[0m \u001b[0my_train\u001b[0m\u001b[0;34m,\u001b[0m \u001b[0mvalidation_data\u001b[0m\u001b[0;34m=\u001b[0m\u001b[0;34m(\u001b[0m\u001b[0mx_test\u001b[0m\u001b[0;34m,\u001b[0m \u001b[0my_test\u001b[0m\u001b[0;34m)\u001b[0m\u001b[0;34m,\u001b[0m \u001b[0mepochs\u001b[0m\u001b[0;34m=\u001b[0m\u001b[0;36m15\u001b[0m\u001b[0;34m,\u001b[0m \u001b[0mbatch_size\u001b[0m \u001b[0;34m=\u001b[0m \u001b[0;36m256\u001b[0m\u001b[0;34m,\u001b[0m \u001b[0mverbose\u001b[0m \u001b[0;34m=\u001b[0m \u001b[0;36m2\u001b[0m\u001b[0;34m)\u001b[0m\u001b[0;34m\u001b[0m\u001b[0;34m\u001b[0m\u001b[0m\n\u001b[0m",
      "\u001b[0;32m~/anaconda3/lib/python3.6/site-packages/keras/engine/training.py\u001b[0m in \u001b[0;36mfit\u001b[0;34m(self, x, y, batch_size, epochs, verbose, callbacks, validation_split, validation_data, shuffle, class_weight, sample_weight, initial_epoch, steps_per_epoch, validation_steps, validation_freq, max_queue_size, workers, use_multiprocessing, **kwargs)\u001b[0m\n\u001b[1;32m   1237\u001b[0m                                         \u001b[0msteps_per_epoch\u001b[0m\u001b[0;34m=\u001b[0m\u001b[0msteps_per_epoch\u001b[0m\u001b[0;34m,\u001b[0m\u001b[0;34m\u001b[0m\u001b[0;34m\u001b[0m\u001b[0m\n\u001b[1;32m   1238\u001b[0m                                         \u001b[0mvalidation_steps\u001b[0m\u001b[0;34m=\u001b[0m\u001b[0mvalidation_steps\u001b[0m\u001b[0;34m,\u001b[0m\u001b[0;34m\u001b[0m\u001b[0;34m\u001b[0m\u001b[0m\n\u001b[0;32m-> 1239\u001b[0;31m                                         validation_freq=validation_freq)\n\u001b[0m\u001b[1;32m   1240\u001b[0m \u001b[0;34m\u001b[0m\u001b[0m\n\u001b[1;32m   1241\u001b[0m     def evaluate(self,\n",
      "\u001b[0;32m~/anaconda3/lib/python3.6/site-packages/keras/engine/training_arrays.py\u001b[0m in \u001b[0;36mfit_loop\u001b[0;34m(model, fit_function, fit_inputs, out_labels, batch_size, epochs, verbose, callbacks, val_function, val_inputs, shuffle, initial_epoch, steps_per_epoch, validation_steps, validation_freq)\u001b[0m\n\u001b[1;32m    194\u001b[0m                     \u001b[0mins_batch\u001b[0m\u001b[0;34m[\u001b[0m\u001b[0mi\u001b[0m\u001b[0;34m]\u001b[0m \u001b[0;34m=\u001b[0m \u001b[0mins_batch\u001b[0m\u001b[0;34m[\u001b[0m\u001b[0mi\u001b[0m\u001b[0;34m]\u001b[0m\u001b[0;34m.\u001b[0m\u001b[0mtoarray\u001b[0m\u001b[0;34m(\u001b[0m\u001b[0;34m)\u001b[0m\u001b[0;34m\u001b[0m\u001b[0;34m\u001b[0m\u001b[0m\n\u001b[1;32m    195\u001b[0m \u001b[0;34m\u001b[0m\u001b[0m\n\u001b[0;32m--> 196\u001b[0;31m                 \u001b[0mouts\u001b[0m \u001b[0;34m=\u001b[0m \u001b[0mfit_function\u001b[0m\u001b[0;34m(\u001b[0m\u001b[0mins_batch\u001b[0m\u001b[0;34m)\u001b[0m\u001b[0;34m\u001b[0m\u001b[0;34m\u001b[0m\u001b[0m\n\u001b[0m\u001b[1;32m    197\u001b[0m                 \u001b[0mouts\u001b[0m \u001b[0;34m=\u001b[0m \u001b[0mto_list\u001b[0m\u001b[0;34m(\u001b[0m\u001b[0mouts\u001b[0m\u001b[0;34m)\u001b[0m\u001b[0;34m\u001b[0m\u001b[0;34m\u001b[0m\u001b[0m\n\u001b[1;32m    198\u001b[0m                 \u001b[0;32mfor\u001b[0m \u001b[0ml\u001b[0m\u001b[0;34m,\u001b[0m \u001b[0mo\u001b[0m \u001b[0;32min\u001b[0m \u001b[0mzip\u001b[0m\u001b[0;34m(\u001b[0m\u001b[0mout_labels\u001b[0m\u001b[0;34m,\u001b[0m \u001b[0mouts\u001b[0m\u001b[0;34m)\u001b[0m\u001b[0;34m:\u001b[0m\u001b[0;34m\u001b[0m\u001b[0;34m\u001b[0m\u001b[0m\n",
      "\u001b[0;32m~/anaconda3/lib/python3.6/site-packages/tensorflow_core/python/keras/backend.py\u001b[0m in \u001b[0;36m__call__\u001b[0;34m(self, inputs)\u001b[0m\n\u001b[1;32m   3738\u001b[0m         \u001b[0mvalue\u001b[0m \u001b[0;34m=\u001b[0m \u001b[0mmath_ops\u001b[0m\u001b[0;34m.\u001b[0m\u001b[0mcast\u001b[0m\u001b[0;34m(\u001b[0m\u001b[0mvalue\u001b[0m\u001b[0;34m,\u001b[0m \u001b[0mtensor\u001b[0m\u001b[0;34m.\u001b[0m\u001b[0mdtype\u001b[0m\u001b[0;34m)\u001b[0m\u001b[0;34m\u001b[0m\u001b[0;34m\u001b[0m\u001b[0m\n\u001b[1;32m   3739\u001b[0m       \u001b[0mconverted_inputs\u001b[0m\u001b[0;34m.\u001b[0m\u001b[0mappend\u001b[0m\u001b[0;34m(\u001b[0m\u001b[0mvalue\u001b[0m\u001b[0;34m)\u001b[0m\u001b[0;34m\u001b[0m\u001b[0;34m\u001b[0m\u001b[0m\n\u001b[0;32m-> 3740\u001b[0;31m     \u001b[0moutputs\u001b[0m \u001b[0;34m=\u001b[0m \u001b[0mself\u001b[0m\u001b[0;34m.\u001b[0m\u001b[0m_graph_fn\u001b[0m\u001b[0;34m(\u001b[0m\u001b[0;34m*\u001b[0m\u001b[0mconverted_inputs\u001b[0m\u001b[0;34m)\u001b[0m\u001b[0;34m\u001b[0m\u001b[0;34m\u001b[0m\u001b[0m\n\u001b[0m\u001b[1;32m   3741\u001b[0m \u001b[0;34m\u001b[0m\u001b[0m\n\u001b[1;32m   3742\u001b[0m     \u001b[0;31m# EagerTensor.numpy() will often make a copy to ensure memory safety.\u001b[0m\u001b[0;34m\u001b[0m\u001b[0;34m\u001b[0m\u001b[0;34m\u001b[0m\u001b[0m\n",
      "\u001b[0;32m~/anaconda3/lib/python3.6/site-packages/tensorflow_core/python/eager/function.py\u001b[0m in \u001b[0;36m__call__\u001b[0;34m(self, *args, **kwargs)\u001b[0m\n\u001b[1;32m   1079\u001b[0m       \u001b[0mTypeError\u001b[0m\u001b[0;34m:\u001b[0m \u001b[0mFor\u001b[0m \u001b[0minvalid\u001b[0m \u001b[0mpositional\u001b[0m\u001b[0;34m/\u001b[0m\u001b[0mkeyword\u001b[0m \u001b[0margument\u001b[0m \u001b[0mcombinations\u001b[0m\u001b[0;34m.\u001b[0m\u001b[0;34m\u001b[0m\u001b[0;34m\u001b[0m\u001b[0m\n\u001b[1;32m   1080\u001b[0m     \"\"\"\n\u001b[0;32m-> 1081\u001b[0;31m     \u001b[0;32mreturn\u001b[0m \u001b[0mself\u001b[0m\u001b[0;34m.\u001b[0m\u001b[0m_call_impl\u001b[0m\u001b[0;34m(\u001b[0m\u001b[0margs\u001b[0m\u001b[0;34m,\u001b[0m \u001b[0mkwargs\u001b[0m\u001b[0;34m)\u001b[0m\u001b[0;34m\u001b[0m\u001b[0;34m\u001b[0m\u001b[0m\n\u001b[0m\u001b[1;32m   1082\u001b[0m \u001b[0;34m\u001b[0m\u001b[0m\n\u001b[1;32m   1083\u001b[0m   \u001b[0;32mdef\u001b[0m \u001b[0m_call_impl\u001b[0m\u001b[0;34m(\u001b[0m\u001b[0mself\u001b[0m\u001b[0;34m,\u001b[0m \u001b[0margs\u001b[0m\u001b[0;34m,\u001b[0m \u001b[0mkwargs\u001b[0m\u001b[0;34m,\u001b[0m \u001b[0mcancellation_manager\u001b[0m\u001b[0;34m=\u001b[0m\u001b[0;32mNone\u001b[0m\u001b[0;34m)\u001b[0m\u001b[0;34m:\u001b[0m\u001b[0;34m\u001b[0m\u001b[0;34m\u001b[0m\u001b[0m\n",
      "\u001b[0;32m~/anaconda3/lib/python3.6/site-packages/tensorflow_core/python/eager/function.py\u001b[0m in \u001b[0;36m_call_impl\u001b[0;34m(self, args, kwargs, cancellation_manager)\u001b[0m\n\u001b[1;32m   1119\u001b[0m       raise TypeError(\"Keyword arguments {} unknown. Expected {}.\".format(\n\u001b[1;32m   1120\u001b[0m           list(kwargs.keys()), list(self._arg_keywords)))\n\u001b[0;32m-> 1121\u001b[0;31m     \u001b[0;32mreturn\u001b[0m \u001b[0mself\u001b[0m\u001b[0;34m.\u001b[0m\u001b[0m_call_flat\u001b[0m\u001b[0;34m(\u001b[0m\u001b[0margs\u001b[0m\u001b[0;34m,\u001b[0m \u001b[0mself\u001b[0m\u001b[0;34m.\u001b[0m\u001b[0mcaptured_inputs\u001b[0m\u001b[0;34m,\u001b[0m \u001b[0mcancellation_manager\u001b[0m\u001b[0;34m)\u001b[0m\u001b[0;34m\u001b[0m\u001b[0;34m\u001b[0m\u001b[0m\n\u001b[0m\u001b[1;32m   1122\u001b[0m \u001b[0;34m\u001b[0m\u001b[0m\n\u001b[1;32m   1123\u001b[0m   \u001b[0;32mdef\u001b[0m \u001b[0m_filtered_call\u001b[0m\u001b[0;34m(\u001b[0m\u001b[0mself\u001b[0m\u001b[0;34m,\u001b[0m \u001b[0margs\u001b[0m\u001b[0;34m,\u001b[0m \u001b[0mkwargs\u001b[0m\u001b[0;34m)\u001b[0m\u001b[0;34m:\u001b[0m\u001b[0;34m\u001b[0m\u001b[0;34m\u001b[0m\u001b[0m\n",
      "\u001b[0;32m~/anaconda3/lib/python3.6/site-packages/tensorflow_core/python/eager/function.py\u001b[0m in \u001b[0;36m_call_flat\u001b[0;34m(self, args, captured_inputs, cancellation_manager)\u001b[0m\n\u001b[1;32m   1222\u001b[0m     \u001b[0;32mif\u001b[0m \u001b[0mexecuting_eagerly\u001b[0m\u001b[0;34m:\u001b[0m\u001b[0;34m\u001b[0m\u001b[0;34m\u001b[0m\u001b[0m\n\u001b[1;32m   1223\u001b[0m       flat_outputs = forward_function.call(\n\u001b[0;32m-> 1224\u001b[0;31m           ctx, args, cancellation_manager=cancellation_manager)\n\u001b[0m\u001b[1;32m   1225\u001b[0m     \u001b[0;32melse\u001b[0m\u001b[0;34m:\u001b[0m\u001b[0;34m\u001b[0m\u001b[0;34m\u001b[0m\u001b[0m\n\u001b[1;32m   1226\u001b[0m       \u001b[0mgradient_name\u001b[0m \u001b[0;34m=\u001b[0m \u001b[0mself\u001b[0m\u001b[0;34m.\u001b[0m\u001b[0m_delayed_rewrite_functions\u001b[0m\u001b[0;34m.\u001b[0m\u001b[0mregister\u001b[0m\u001b[0;34m(\u001b[0m\u001b[0;34m)\u001b[0m\u001b[0;34m\u001b[0m\u001b[0;34m\u001b[0m\u001b[0m\n",
      "\u001b[0;32m~/anaconda3/lib/python3.6/site-packages/tensorflow_core/python/eager/function.py\u001b[0m in \u001b[0;36mcall\u001b[0;34m(self, ctx, args, cancellation_manager)\u001b[0m\n\u001b[1;32m    509\u001b[0m               \u001b[0minputs\u001b[0m\u001b[0;34m=\u001b[0m\u001b[0margs\u001b[0m\u001b[0;34m,\u001b[0m\u001b[0;34m\u001b[0m\u001b[0;34m\u001b[0m\u001b[0m\n\u001b[1;32m    510\u001b[0m               \u001b[0mattrs\u001b[0m\u001b[0;34m=\u001b[0m\u001b[0;34m(\u001b[0m\u001b[0;34m\"executor_type\"\u001b[0m\u001b[0;34m,\u001b[0m \u001b[0mexecutor_type\u001b[0m\u001b[0;34m,\u001b[0m \u001b[0;34m\"config_proto\"\u001b[0m\u001b[0;34m,\u001b[0m \u001b[0mconfig\u001b[0m\u001b[0;34m)\u001b[0m\u001b[0;34m,\u001b[0m\u001b[0;34m\u001b[0m\u001b[0;34m\u001b[0m\u001b[0m\n\u001b[0;32m--> 511\u001b[0;31m               ctx=ctx)\n\u001b[0m\u001b[1;32m    512\u001b[0m         \u001b[0;32melse\u001b[0m\u001b[0;34m:\u001b[0m\u001b[0;34m\u001b[0m\u001b[0;34m\u001b[0m\u001b[0m\n\u001b[1;32m    513\u001b[0m           outputs = execute.execute_with_cancellation(\n",
      "\u001b[0;32m~/anaconda3/lib/python3.6/site-packages/tensorflow_core/python/eager/execute.py\u001b[0m in \u001b[0;36mquick_execute\u001b[0;34m(op_name, num_outputs, inputs, attrs, ctx, name)\u001b[0m\n\u001b[1;32m     59\u001b[0m     tensors = pywrap_tensorflow.TFE_Py_Execute(ctx._handle, device_name,\n\u001b[1;32m     60\u001b[0m                                                \u001b[0mop_name\u001b[0m\u001b[0;34m,\u001b[0m \u001b[0minputs\u001b[0m\u001b[0;34m,\u001b[0m \u001b[0mattrs\u001b[0m\u001b[0;34m,\u001b[0m\u001b[0;34m\u001b[0m\u001b[0;34m\u001b[0m\u001b[0m\n\u001b[0;32m---> 61\u001b[0;31m                                                num_outputs)\n\u001b[0m\u001b[1;32m     62\u001b[0m   \u001b[0;32mexcept\u001b[0m \u001b[0mcore\u001b[0m\u001b[0;34m.\u001b[0m\u001b[0m_NotOkStatusException\u001b[0m \u001b[0;32mas\u001b[0m \u001b[0me\u001b[0m\u001b[0;34m:\u001b[0m\u001b[0;34m\u001b[0m\u001b[0;34m\u001b[0m\u001b[0m\n\u001b[1;32m     63\u001b[0m     \u001b[0;32mif\u001b[0m \u001b[0mname\u001b[0m \u001b[0;32mis\u001b[0m \u001b[0;32mnot\u001b[0m \u001b[0;32mNone\u001b[0m\u001b[0;34m:\u001b[0m\u001b[0;34m\u001b[0m\u001b[0;34m\u001b[0m\u001b[0m\n",
      "\u001b[0;31mKeyboardInterrupt\u001b[0m: "
     ]
    }
   ],
   "source": [
    "#train the model\n",
    "model.fit(x_train, y_train, validation_data=(x_test, y_test), epochs=15, batch_size = 256, verbose = 2)"
   ]
  },
  {
   "cell_type": "code",
   "execution_count": 94,
   "id": "5bc18589",
   "metadata": {
    "id": "5bc18589"
   },
   "outputs": [],
   "source": [
    "# class MyModel(Model):\n",
    "#   def __init__(self):\n",
    "#     super(MyModel, self).__init__()\n",
    "#     self.conv1 = Conv2D(32, 3, activation='relu')\n",
    "#     self.flatten = Flatten()\n",
    "#     self.d1 = Dense(128, activation='relu')\n",
    "#     self.d2 = Dense(2, )\n",
    "\n",
    "#   def call(self, x):\n",
    "#     x = self.conv1(x)\n",
    "#     x = self.flatten(x)\n",
    "#     x = self.d1(x)\n",
    "#     return self.d2(x)\n",
    "\n",
    "# # Create an instance of the model\n",
    "# model = MyModel()\n",
    "\n",
    "# # Categorical Cross entropy loss to for classification\n",
    "# loss_object = tf.keras.losses.CategoricalCrossentropy(from_logits=True)\n",
    "\n",
    "# # Adaptive Learning rate\n",
    "# optimizer = tf.keras.optimizers.Adam()\n",
    "\n",
    "# train_loss = tf.keras.metrics.Mean(name='train_loss')\n",
    "# train_accuracy = tf.keras.metrics.CategoricalAccuracy(name='train_accuracy')\n",
    "\n",
    "# test_loss = tf.keras.metrics.Mean(name='test_loss')\n",
    "# test_accuracy = tf.keras.metrics.CategoricalAccuracy(name='test_accuracy')\n",
    "\n",
    "# # Gradient Descent\n",
    "# @tf.function\n",
    "# def train_step(images, labels):\n",
    "#   with tf.GradientTape() as tape:\n",
    "#     # training=True is only needed when a more complex architecture\n",
    "#     # is implemented\n",
    "#     predictions = model(images)\n",
    "#     loss = loss_object(labels, predictions)\n",
    "#   gradients = tape.gradient(loss, model.trainable_variables)\n",
    "#   optimizer.apply_gradients(zip(gradients, model.trainable_variables))\n",
    "\n",
    "#   train_loss(loss)\n",
    "#   train_accuracy(labels, predictions)\n",
    "\n",
    "# @tf.function\n",
    "# def test_step(images, labels):\n",
    "#   # training=False is only needed if there are layers with different\n",
    "#   # behavior during training versus inference (e.g. Dropout).\n",
    "#   predictions = model(images)\n",
    "#   t_loss = loss_object(labels, predictions)\n",
    "\n",
    "#   test_loss(t_loss)\n",
    "#   test_accuracy(labels, predictions)\n",
    "\n",
    "# # test_ds\n",
    "\n",
    "# EPOCHS = 25 # Original: epochs = 25. \n",
    "\n",
    "# #training_seed = 1001 # Suhas training\n",
    "# #random.seed(training_seed)\n",
    "# #tf.random.set_seed(training_seed) # Random seed doesn't work? \n",
    "# for epoch in range(EPOCHS):\n",
    "#     print(epoch)\n",
    "#   # Reset the metrics at the start of the next epoch\n",
    "#     train_loss.reset_states()\n",
    "#     train_accuracy.reset_states()\n",
    "#     test_loss.reset_states()\n",
    "#     test_accuracy.reset_states()\n",
    "#     print(epoch)\n",
    "#     count = 0\n",
    "#     for images, labels in train_ds:\n",
    "#         train_step(images, labels)\n",
    "#         count += 1\n",
    "#         print(count)\n",
    "\n",
    "#     for test_images, test_labels in test_ds:\n",
    "#         test_step(test_images, test_labels)\n",
    "\n",
    "#     print(\n",
    "#          f'Epoch {epoch + 1}, '\n",
    "#          f'Loss: {train_loss.result()}, '\n",
    "#          f'Accuracy: {train_accuracy.result() * 100}, '\n",
    "#          f'Test Loss: {test_loss.result()}, '\n",
    "#          f'Test Accuracy: {test_accuracy.result() * 100}'\n",
    "#          )"
   ]
  },
  {
   "cell_type": "code",
   "execution_count": 218,
   "id": "3f71d6ab",
   "metadata": {
    "id": "3f71d6ab",
    "outputId": "db237513-0ff0-4a53-de92-e8eb8b9bc284"
   },
   "outputs": [
    {
     "name": "stdout",
     "output_type": "stream",
     "text": [
      "Model: \"sequential_4\"\n",
      "_________________________________________________________________\n",
      "Layer (type)                 Output Shape              Param #   \n",
      "=================================================================\n",
      "conv2d_6 (Conv2D)            (None, 8, 8, 32)          320       \n",
      "_________________________________________________________________\n",
      "conv2d_7 (Conv2D)            (None, 4, 4, 64)          51264     \n",
      "_________________________________________________________________\n",
      "flatten_4 (Flatten)          (None, 1024)              0         \n",
      "_________________________________________________________________\n",
      "dense_7 (Dense)              (None, 128)               131200    \n",
      "_________________________________________________________________\n",
      "dense_8 (Dense)              (None, 2)                 258       \n",
      "=================================================================\n",
      "Total params: 183,042\n",
      "Trainable params: 183,042\n",
      "Non-trainable params: 0\n",
      "_________________________________________________________________\n"
     ]
    }
   ],
   "source": [
    "# Summary of the model\n",
    "\n",
    "model.summary()"
   ]
  },
  {
   "cell_type": "code",
   "execution_count": 96,
   "id": "d4728c97",
   "metadata": {},
   "outputs": [],
   "source": [
    "# model.save(\"my_model\")"
   ]
  },
  {
   "cell_type": "code",
   "execution_count": 65,
   "id": "b5a00a50",
   "metadata": {},
   "outputs": [],
   "source": [
    "# model.save(model_saving_location, save_format='tf')"
   ]
  },
  {
   "cell_type": "code",
   "execution_count": 64,
   "id": "dc6f9e18",
   "metadata": {},
   "outputs": [],
   "source": [
    "# model_saving_location"
   ]
  },
  {
   "cell_type": "markdown",
   "id": "5fd910d5",
   "metadata": {
    "id": "5fd910d5"
   },
   "source": [
    "# Model testing"
   ]
  },
  {
   "cell_type": "code",
   "execution_count": 340,
   "id": "fe1fd2b5",
   "metadata": {
    "id": "a2ef40d6"
   },
   "outputs": [
    {
     "name": "stderr",
     "output_type": "stream",
     "text": [
      "100%|██████████| 100/100 [00:00<00:00, 254.63it/s]\n"
     ]
    }
   ],
   "source": [
    "# Folder places and filenames\n",
    "# Stationary\n",
    "directory_in_str_locs_stationary = \"stationary_test/\"\n",
    "directory_in_str_z_stationary = \"stationary_test/\"\n",
    "locs_string_stationary = \"LOC_\" # LOC_3600_sample_1.txt, LOC_3600_sample_2.txt, ...\n",
    "z_string_stationary = \"Z_\" # Z_3600_sample_1.txt, Z_3600_sample_2.txt, ...\n",
    "\n",
    "\n",
    "\n",
    "# Initialization \n",
    "directory_in_str_locs = directory_in_str_locs_stationary\n",
    "directory_in_str_z = directory_in_str_z_stationary\n",
    "locs_string = locs_string_stationary\n",
    "z_string = z_string_stationary\n",
    "\n",
    "directory_locs = os.fsencode(directory_in_str_locs)\n",
    "data_folder1_locs = os.listdir(directory_locs)\n",
    "\n",
    "location_file_list = []\n",
    "Z_file_list = []\n",
    "for path, subdirs, files in os.walk(directory_locs):\n",
    "    for name in files:\n",
    "        name_string = name.decode(\"utf-8\")\n",
    "        if name_string.startswith(locs_string): \n",
    "            location_file_path = os.path.join(path, name)\n",
    "            location_file_path = location_file_path.decode(\"utf-8\")\n",
    "            z_file_path = location_file_path.replace(locs_string, z_string, 1)\n",
    "            location_file_list.append(location_file_path)\n",
    "            Z_file_list.append(z_file_path)\n",
    "\n",
    "# loc_files is the file name for plotting. \n",
    "loc_files = []\n",
    "for i in range(len(location_file_list)): \n",
    "    replace_res = location_file_list[i].replace(directory_in_str_locs, \"\")\n",
    "    replace_res = replace_res.replace(\"\\\\\", \"_\")\n",
    "    loc_files.append(replace_res)\n",
    "\n",
    "# Grid row and column\n",
    "GRID_ROWS = 10\n",
    "GRID_COLS = 10\n",
    "\n",
    "# Initialization continued\n",
    "ndata = len(location_file_list)\n",
    "#ndata = 100 # Test\n",
    "stationary_x_test = np.zeros((ndata,GRID_COLS,GRID_ROWS))\n",
    "\n",
    "stationary_y_test = np.zeros(ndata) # Zero = the model is stationary. One = nonstationary. \n",
    "\n",
    "# Initialization continued\n",
    "param_val_is_stat = 1;\n",
    "npzfilename = npzfilename_stationary;\n",
    "\n",
    "# Initialization continued\n",
    "npzfilename = npzfilename_nonstationary;\n",
    "\n",
    "# Initialization continued\n",
    "param_is_stat = np.ones(ndata)\n",
    "#param_samplenum.fill(param_val_samplenum)\n",
    "param_is_stat.fill(param_val_is_stat)\n",
    "\n",
    "param_list = []\n",
    "\n",
    "# Main program for data preprocessing\n",
    "for i_folder in tqdm(range(ndata)):\n",
    "    # Append the parameter to samples. \n",
    "    param_dict = {\n",
    "        \"sample\": i_folder,\n",
    "        \"is_stat\": param_val_is_stat\n",
    "    }\n",
    "    param_list.append(param_dict)\n",
    "    #==========\n",
    "    # Data extraction\n",
    "    #===========\n",
    "    # Get location and observation files for each subsample\n",
    "    loc_text = location_file_list[i_folder]\n",
    "    z_text = Z_file_list[i_folder]\n",
    "    # Load the location and z files\n",
    "    location_file = open(loc_text)\n",
    "    Z_value_file = open(z_text)\n",
    "#     print(location_file)\n",
    "    locations = np.loadtxt(location_file, delimiter=',')\n",
    "    Z_values = np.loadtxt(Z_value_file, delimiter=',')\n",
    "    \n",
    "    ### random selection of subsample of locations\n",
    "    idx = np.random.randint(len(locations), size=2500)\n",
    "    locations = locations[idx,:]\n",
    "    Z_values = Z_values[idx]\n",
    "    \n",
    "    \n",
    "    #==========\n",
    "    # End of data extraction\n",
    "    #==========\n",
    "    # Compute the output grid\n",
    "    output_arr = np.zeros((GRID_ROWS,GRID_COLS))\n",
    "    grid_sum_arr = np.zeros((GRID_ROWS,GRID_COLS))\n",
    "    grid_div_arr = np.zeros((GRID_ROWS,GRID_COLS))\n",
    "    if manual_range_locs == False:\n",
    "        # Start and end locations (Auto)\n",
    "#         print(locations[:,0],locations[:,1])\n",
    "        startx = min(locations[:, 0])\n",
    "        starty = min(locations[:, 1])\n",
    "        endx = max(locations[:, 0])\n",
    "        endy = max(locations[:, 1])\n",
    "#     print(locations)\n",
    "    locations[:,0] = (locations[:, 0] - startx)/(endx - startx)\n",
    "    locations[:,1] = (locations[:, 1] - starty)/(endy - starty)\n",
    "#     print(locations)\n",
    "    \n",
    "    X = np.linspace(0, 1,GRID_COLS)\n",
    "    Y = np.linspace(0, 1,GRID_ROWS)\n",
    "    X, Y = np.meshgrid(X, Y)  # 2D grid for interpolation\n",
    "    interp = NearestNDInterpolator(locations, Z_values)\n",
    "    Z = interp(X, Y)\n",
    "#     break\n",
    "#     # Get the summation and division\n",
    "#     for j in range(locations.shape[0]):\n",
    "#         # Get the grid locations (x, y). Result: [y][x], because x is column (x=0 is the first column). \n",
    "#         x = int(math.floor((locations[j][0] - startx) * GRID_COLS / (endx - startx)))\n",
    "#         y = int(math.floor((locations[j][1] - starty) * GRID_ROWS / (endy - starty)))\n",
    "#         # For boundary value problems\n",
    "#         x = min(x, GRID_COLS - 1)\n",
    "#         y = min(y, GRID_ROWS - 1)\n",
    "#         val = Z_values[j]\n",
    "#         # Add the summation and division\n",
    "#         grid_sum_arr[y][x] = grid_sum_arr[y][x] + val\n",
    "#         grid_div_arr[y][x] += 1\n",
    "#     # Generate output\n",
    "#     for j1 in range(GRID_ROWS):\n",
    "#         for j2 in range(GRID_COLS):\n",
    "#             if grid_div_arr[j1][j2] > 0:\n",
    "#                 # Mean value in a cell\n",
    "#                 output_arr[j1][j2] += (grid_sum_arr[j1][j2] / grid_div_arr[j1][j2])\n",
    "#             else:\n",
    "#                 # Mean value over all regions if the cell has no locations\n",
    "#                 output_arr[j1][j2] += np.mean(Z_values)\n",
    "    if manual_range_z == False:\n",
    "        # Normalize (Auto)\n",
    "        m = np.min(Z)\n",
    "        M = np.max(Z)\n",
    "    if m == M:\n",
    "        output_arr = np.ones((GRID_ROWS,GRID_COLS)) * 0.5 # All 0.5\n",
    "    else: \n",
    "        # Range from 0 to 1. \n",
    "        Z = (Z - m) / (M - m)\n",
    "    # Save results\n",
    "    stationary_x_test[i_folder] = Z"
   ]
  },
  {
   "cell_type": "code",
   "execution_count": 342,
   "id": "e0c06a1a",
   "metadata": {},
   "outputs": [
    {
     "data": {
      "text/plain": [
       "(100, 10, 10)"
      ]
     },
     "execution_count": 342,
     "metadata": {},
     "output_type": "execute_result"
    }
   ],
   "source": [
    "stationary_x_test.shape"
   ]
  },
  {
   "cell_type": "code",
   "execution_count": 343,
   "id": "08156384",
   "metadata": {},
   "outputs": [
    {
     "data": {
      "text/plain": [
       "<AxesSubplot:>"
      ]
     },
     "execution_count": 343,
     "metadata": {},
     "output_type": "execute_result"
    },
    {
     "data": {
      "image/png": "[encoded data removed]",
      "text/plain": [
       "<Figure size 432x288 with 2 Axes>"
      ]
     },
     "metadata": {
      "needs_background": "light"
     },
     "output_type": "display_data"
    }
   ],
   "source": [
    "sns.heatmap( stationary_x_test[9] , linewidth=0)"
   ]
  },
  {
   "cell_type": "code",
   "execution_count": 344,
   "id": "e6e2cd0d",
   "metadata": {},
   "outputs": [],
   "source": [
    "stationary_x_test = stationary_x_test.reshape(100,10,10,1)"
   ]
  },
  {
   "cell_type": "code",
   "execution_count": 347,
   "id": "8292ad9b",
   "metadata": {},
   "outputs": [
    {
     "name": "stdout",
     "output_type": "stream",
     "text": [
      "0.0\n"
     ]
    }
   ],
   "source": [
    "count = 0\n",
    "\n",
    "for i in range(100):\n",
    "    if prediction[i,0] >= 0.5:\n",
    "        count += 1\n",
    "print(count/100)"
   ]
  },
  {
   "cell_type": "code",
   "execution_count": 270,
   "id": "1c76784b",
   "metadata": {
    "id": "1c76784b"
   },
   "outputs": [
    {
     "name": "stderr",
     "output_type": "stream",
     "text": [
      "100%|██████████| 100/100 [00:00<00:00, 298.48it/s]\n"
     ]
    }
   ],
   "source": [
    "# Folder places and filenames\n",
    "# non-Stationary\n",
    "directory_in_str_locs_stationary = \"nonstationary_test/\"\n",
    "directory_in_str_z_stationary = \"nonstationary_test/\"\n",
    "locs_string_stationary = \"LOC_\" # LOC_3600_sample_1.txt, LOC_3600_sample_2.txt, ...\n",
    "z_string_stationary = \"Z_\" # Z_3600_sample_1.txt, Z_3600_sample_2.txt, ...\n",
    "\n",
    "\n",
    "\n",
    "# Initialization \n",
    "directory_in_str_locs = directory_in_str_locs_stationary\n",
    "directory_in_str_z = directory_in_str_z_stationary\n",
    "locs_string = locs_string_stationary\n",
    "z_string = z_string_stationary\n",
    "\n",
    "directory_locs = os.fsencode(directory_in_str_locs)\n",
    "data_folder1_locs = os.listdir(directory_locs)\n",
    "\n",
    "location_file_list = []\n",
    "Z_file_list = []\n",
    "for path, subdirs, files in os.walk(directory_locs):\n",
    "    for name in files:\n",
    "        name_string = name.decode(\"utf-8\")\n",
    "        if name_string.startswith(locs_string): \n",
    "            location_file_path = os.path.join(path, name)\n",
    "            location_file_path = location_file_path.decode(\"utf-8\")\n",
    "            z_file_path = location_file_path.replace(locs_string, z_string, 1)\n",
    "            location_file_list.append(location_file_path)\n",
    "            Z_file_list.append(z_file_path)\n",
    "\n",
    "# loc_files is the file name for plotting. \n",
    "loc_files = []\n",
    "for i in range(len(location_file_list)): \n",
    "    replace_res = location_file_list[i].replace(directory_in_str_locs, \"\")\n",
    "    replace_res = replace_res.replace(\"\\\\\", \"_\")\n",
    "    loc_files.append(replace_res)\n",
    "\n",
    "# Grid row and column\n",
    "GRID_ROWS = 10\n",
    "GRID_COLS = 10\n",
    "\n",
    "# Initialization continued\n",
    "ndata = len(location_file_list)\n",
    "#ndata = 100 # Test\n",
    "nonstationary_x_test = np.zeros((ndata,GRID_COLS,GRID_ROWS))\n",
    "\n",
    "nonstationary_y_test = np.ones(ndata) # Zero = the model is stationary. One = nonstationary. \n",
    "\n",
    "# Initialization continued\n",
    "param_val_is_stat = 1;\n",
    "npzfilename = npzfilename_stationary;\n",
    "\n",
    "# Initialization continued\n",
    "npzfilename = npzfilename_nonstationary;\n",
    "\n",
    "# Initialization continued\n",
    "param_is_stat = np.ones(ndata)\n",
    "#param_samplenum.fill(param_val_samplenum)\n",
    "param_is_stat.fill(param_val_is_stat)\n",
    "\n",
    "param_list = []\n",
    "\n",
    "# Main program for data preprocessing\n",
    "for i_folder in tqdm(range(ndata)):\n",
    "    # Append the parameter to samples. \n",
    "    param_dict = {\n",
    "        \"sample\": i_folder,\n",
    "        \"is_stat\": param_val_is_stat\n",
    "    }\n",
    "    param_list.append(param_dict)\n",
    "    #==========\n",
    "    # Data extraction\n",
    "    #===========\n",
    "    # Get location and observation files for each subsample\n",
    "    loc_text = location_file_list[i_folder]\n",
    "    z_text = Z_file_list[i_folder]\n",
    "    # Load the location and z files\n",
    "    location_file = open(loc_text)\n",
    "    Z_value_file = open(z_text)\n",
    "#     print(location_file)\n",
    "    locations = np.loadtxt(location_file, delimiter=',')\n",
    "    Z_values = np.loadtxt(Z_value_file, delimiter=',')\n",
    "    \n",
    "    ### random selection of subsample of locations\n",
    "    idx = np.random.randint(len(locations), size=2500)\n",
    "    locations = locations[idx,:]\n",
    "    Z_values = Z_values[idx]\n",
    "    \n",
    "    \n",
    "    #==========\n",
    "    # End of data extraction\n",
    "    #==========\n",
    "    # Compute the output grid\n",
    "    output_arr = np.zeros((GRID_ROWS,GRID_COLS))\n",
    "    grid_sum_arr = np.zeros((GRID_ROWS,GRID_COLS))\n",
    "    grid_div_arr = np.zeros((GRID_ROWS,GRID_COLS))\n",
    "    if manual_range_locs == False:\n",
    "        # Start and end locations (Auto)\n",
    "#         print(locations[:,0],locations[:,1])\n",
    "        startx = min(locations[:, 0])\n",
    "        starty = min(locations[:, 1])\n",
    "        endx = max(locations[:, 0])\n",
    "        endy = max(locations[:, 1])\n",
    "#     print(locations)\n",
    "    locations[:,0] = (locations[:, 0] - startx)/(endx - startx)\n",
    "    locations[:,1] = (locations[:, 1] - starty)/(endy - starty)\n",
    "#     print(locations)\n",
    "    \n",
    "    X = np.linspace(0, 1,GRID_COLS)\n",
    "    Y = np.linspace(0, 1,GRID_ROWS)\n",
    "    X, Y = np.meshgrid(X, Y)  # 2D grid for interpolation\n",
    "    interp = NearestNDInterpolator(locations, Z_values)\n",
    "    Z = interp(X, Y)\n",
    "#     break\n",
    "#     # Get the summation and division\n",
    "#     for j in range(locations.shape[0]):\n",
    "#         # Get the grid locations (x, y). Result: [y][x], because x is column (x=0 is the first column). \n",
    "#         x = int(math.floor((locations[j][0] - startx) * GRID_COLS / (endx - startx)))\n",
    "#         y = int(math.floor((locations[j][1] - starty) * GRID_ROWS / (endy - starty)))\n",
    "#         # For boundary value problems\n",
    "#         x = min(x, GRID_COLS - 1)\n",
    "#         y = min(y, GRID_ROWS - 1)\n",
    "#         val = Z_values[j]\n",
    "#         # Add the summation and division\n",
    "#         grid_sum_arr[y][x] = grid_sum_arr[y][x] + val\n",
    "#         grid_div_arr[y][x] += 1\n",
    "#     # Generate output\n",
    "#     for j1 in range(GRID_ROWS):\n",
    "#         for j2 in range(GRID_COLS):\n",
    "#             if grid_div_arr[j1][j2] > 0:\n",
    "#                 # Mean value in a cell\n",
    "#                 output_arr[j1][j2] += (grid_sum_arr[j1][j2] / grid_div_arr[j1][j2])\n",
    "#             else:\n",
    "#                 # Mean value over all regions if the cell has no locations\n",
    "#                 output_arr[j1][j2] += np.mean(Z_values)\n",
    "    if manual_range_z == False:\n",
    "        # Normalize (Auto)\n",
    "        m = np.min(Z)\n",
    "        M = np.max(Z)\n",
    "    if m == M:\n",
    "        output_arr = np.ones((GRID_ROWS,GRID_COLS)) * 0.5 # All 0.5\n",
    "    else: \n",
    "        # Range from 0 to 1. \n",
    "        Z = (Z - m) / (M - m)\n",
    "    # Save results\n",
    "    nonstationary_x_test[i_folder] = Z"
   ]
  },
  {
   "cell_type": "code",
   "execution_count": 271,
   "id": "9a822afc",
   "metadata": {},
   "outputs": [
    {
     "data": {
      "text/plain": [
       "(100, 10, 10)"
      ]
     },
     "execution_count": 271,
     "metadata": {},
     "output_type": "execute_result"
    }
   ],
   "source": [
    "nonstationary_x_test.shape"
   ]
  },
  {
   "cell_type": "code",
   "execution_count": 272,
   "id": "7c4641ab",
   "metadata": {},
   "outputs": [
    {
     "data": {
      "text/plain": [
       "<AxesSubplot:>"
      ]
     },
     "execution_count": 272,
     "metadata": {},
     "output_type": "execute_result"
    },
    {
     "data": {
      "image/png": "[encoded data removed]",
      "text/plain": [
       "<Figure size 432x288 with 2 Axes>"
      ]
     },
     "metadata": {
      "needs_background": "light"
     },
     "output_type": "display_data"
    }
   ],
   "source": [
    "sns.heatmap(nonstationary_x_test[1] , linewidth=0)"
   ]
  },
  {
   "cell_type": "code",
   "execution_count": 273,
   "id": "5577ab4b",
   "metadata": {},
   "outputs": [],
   "source": [
    "nonstationary_x_test = nonstationary_x_test.reshape(100,10,10,1)"
   ]
  },
  {
   "cell_type": "code",
   "execution_count": 274,
   "id": "d0739c10",
   "metadata": {},
   "outputs": [
    {
     "name": "stdout",
     "output_type": "stream",
     "text": [
      "0.71\n"
     ]
    }
   ],
   "source": [
    "prediction = model.predict(nonstationary_x_test)\n",
    "count = 0\n",
    "\n",
    "for i in range(100):\n",
    "    if prediction[i,1] >= 0.5:\n",
    "        count += 1\n",
    "print(count/100)"
   ]
  },
  {
   "cell_type": "code",
   "execution_count": 230,
   "id": "dc98dc86",
   "metadata": {},
   "outputs": [
    {
     "data": {
      "text/plain": [
       "array([[1.97439545e-06, 9.99997973e-01],\n",
       "       [1.92589544e-09, 1.00000000e+00],\n",
       "       [9.22028303e-01, 7.79716522e-02],\n",
       "       [9.46380105e-03, 9.90536153e-01],\n",
       "       [9.23621774e-01, 7.63782784e-02],\n",
       "       [9.84904408e-01, 1.50955664e-02],\n",
       "       [9.99792874e-01, 2.07096658e-04],\n",
       "       [9.99996543e-01, 3.40643760e-06],\n",
       "       [6.67535126e-01, 3.32464874e-01],\n",
       "       [4.87802890e-06, 9.99995112e-01],\n",
       "       [5.17427223e-04, 9.99482512e-01],\n",
       "       [1.00000000e+00, 3.52984841e-08],\n",
       "       [1.42592518e-03, 9.98574018e-01],\n",
       "       [1.00000000e+00, 1.47778956e-10],\n",
       "       [9.98455524e-01, 1.54444831e-03],\n",
       "       [9.94086504e-01, 5.91350719e-03],\n",
       "       [9.99999881e-01, 1.01037990e-07],\n",
       "       [1.69063024e-02, 9.83093739e-01],\n",
       "       [6.33233666e-01, 3.66766244e-01],\n",
       "       [5.93294136e-10, 1.00000000e+00],\n",
       "       [1.00000000e+00, 6.36375397e-11],\n",
       "       [1.15258561e-03, 9.98847365e-01],\n",
       "       [1.00000000e+00, 1.28686413e-08],\n",
       "       [2.59810150e-01, 7.40189850e-01],\n",
       "       [9.99741614e-01, 2.58320477e-04],\n",
       "       [9.99861121e-01, 1.38889765e-04],\n",
       "       [2.80353674e-06, 9.99997139e-01],\n",
       "       [9.59365427e-01, 4.06345427e-02],\n",
       "       [3.39332104e-01, 6.60667896e-01],\n",
       "       [9.99999166e-01, 8.06356582e-07],\n",
       "       [1.00000000e+00, 3.01083602e-09],\n",
       "       [9.20102537e-01, 7.98974559e-02],\n",
       "       [7.18016207e-01, 2.81983733e-01],\n",
       "       [3.86530603e-03, 9.96134758e-01],\n",
       "       [1.09188620e-03, 9.98908162e-01],\n",
       "       [3.60778987e-01, 6.39220953e-01],\n",
       "       [9.96961772e-01, 3.03820195e-03],\n",
       "       [9.99979734e-01, 2.03152740e-05],\n",
       "       [3.80294543e-04, 9.99619722e-01],\n",
       "       [8.22703600e-01, 1.77296415e-01],\n",
       "       [1.00000000e+00, 3.08729719e-16],\n",
       "       [7.31395632e-02, 9.26860452e-01],\n",
       "       [2.36087605e-01, 7.63912439e-01],\n",
       "       [9.99999762e-01, 1.94749305e-07],\n",
       "       [5.95020533e-01, 4.04979438e-01],\n",
       "       [7.72881705e-08, 9.99999881e-01],\n",
       "       [3.72047033e-08, 1.00000000e+00],\n",
       "       [2.93538034e-01, 7.06461906e-01],\n",
       "       [1.00000000e+00, 2.83256711e-15],\n",
       "       [4.14118040e-06, 9.99995828e-01],\n",
       "       [9.99940276e-01, 5.97161052e-05],\n",
       "       [1.00000000e+00, 1.91891392e-09],\n",
       "       [9.99970794e-01, 2.91614524e-05],\n",
       "       [8.00878834e-03, 9.91991222e-01],\n",
       "       [7.77303299e-04, 9.99222636e-01],\n",
       "       [9.91248965e-01, 8.75105243e-03],\n",
       "       [8.75068158e-02, 9.12493169e-01],\n",
       "       [1.00000000e+00, 1.12859917e-08],\n",
       "       [9.99989152e-01, 1.08476415e-05],\n",
       "       [3.61430898e-06, 9.99996424e-01],\n",
       "       [2.40576845e-02, 9.75942373e-01],\n",
       "       [9.99999762e-01, 1.85196484e-07],\n",
       "       [9.99844074e-01, 1.55861460e-04],\n",
       "       [6.18644394e-02, 9.38135564e-01],\n",
       "       [2.21797080e-07, 9.99999762e-01],\n",
       "       [7.30872096e-04, 9.99269187e-01],\n",
       "       [1.05935277e-03, 9.98940647e-01],\n",
       "       [3.87667259e-03, 9.96123374e-01],\n",
       "       [5.46611333e-03, 9.94533896e-01],\n",
       "       [6.17269939e-03, 9.93827283e-01],\n",
       "       [9.99399781e-01, 6.00264524e-04],\n",
       "       [6.18145287e-01, 3.81854713e-01],\n",
       "       [9.99866128e-01, 1.33900248e-04],\n",
       "       [9.92291868e-01, 7.70819467e-03],\n",
       "       [2.71866757e-05, 9.99972820e-01],\n",
       "       [9.87804413e-01, 1.21955965e-02],\n",
       "       [1.67691251e-04, 9.99832273e-01],\n",
       "       [1.73260029e-02, 9.82673943e-01],\n",
       "       [1.65861114e-09, 1.00000000e+00],\n",
       "       [1.00000000e+00, 2.52341099e-11],\n",
       "       [3.55591215e-02, 9.64440823e-01],\n",
       "       [3.63326329e-03, 9.96366739e-01],\n",
       "       [9.97279584e-01, 2.72041326e-03],\n",
       "       [4.04025396e-10, 1.00000000e+00],\n",
       "       [3.39817707e-09, 1.00000000e+00],\n",
       "       [9.99554217e-01, 4.45753016e-04],\n",
       "       [3.95908952e-01, 6.04091048e-01],\n",
       "       [4.51922156e-02, 9.54807818e-01],\n",
       "       [1.00000000e+00, 5.19161740e-15],\n",
       "       [1.00813435e-04, 9.99899149e-01],\n",
       "       [9.99720037e-01, 2.79989588e-04],\n",
       "       [7.15285260e-03, 9.92847145e-01],\n",
       "       [6.78134311e-05, 9.99932170e-01],\n",
       "       [4.25115883e-01, 5.74884117e-01],\n",
       "       [1.61466633e-05, 9.99983907e-01],\n",
       "       [9.99977469e-01, 2.25212934e-05],\n",
       "       [9.98341918e-01, 1.65810680e-03],\n",
       "       [9.99999881e-01, 7.74856588e-08],\n",
       "       [7.39717549e-08, 9.99999881e-01],\n",
       "       [3.60872605e-06, 9.99996424e-01]], dtype=float32)"
      ]
     },
     "execution_count": 230,
     "metadata": {},
     "output_type": "execute_result"
    }
   ],
   "source": [
    "prediction"
   ]
  },
  {
   "cell_type": "code",
   "execution_count": 72,
   "id": "4323aacc",
   "metadata": {
    "id": "4323aacc"
   },
   "outputs": [
    {
     "ename": "IndexError",
     "evalue": "too many indices for array: array is 0-dimensional, but 2 were indexed",
     "output_type": "error",
     "traceback": [
      "\u001b[0;31m---------------------------------------------------------------------------\u001b[0m",
      "\u001b[0;31mIndexError\u001b[0m                                Traceback (most recent call last)",
      "\u001b[0;32m<ipython-input-72-137e75858a0c>\u001b[0m in \u001b[0;36m<module>\u001b[0;34m\u001b[0m\n\u001b[0;32m----> 1\u001b[0;31m \u001b[0mprobnonstat_stationary\u001b[0m \u001b[0;34m=\u001b[0m \u001b[0mprobnonstat_all\u001b[0m\u001b[0;34m[\u001b[0m\u001b[0mnp\u001b[0m\u001b[0;34m.\u001b[0m\u001b[0mwhere\u001b[0m\u001b[0;34m(\u001b[0m\u001b[0mtesting_y\u001b[0m\u001b[0;34m==\u001b[0m\u001b[0;36m0\u001b[0m\u001b[0;34m)\u001b[0m\u001b[0;34m]\u001b[0m\u001b[0;34m\u001b[0m\u001b[0;34m\u001b[0m\u001b[0m\n\u001b[0m\u001b[1;32m      2\u001b[0m \u001b[0mprobnonstat_nonstationary\u001b[0m \u001b[0;34m=\u001b[0m \u001b[0mprobnonstat_all\u001b[0m\u001b[0;34m[\u001b[0m\u001b[0mnp\u001b[0m\u001b[0;34m.\u001b[0m\u001b[0mwhere\u001b[0m\u001b[0;34m(\u001b[0m\u001b[0mtesting_y\u001b[0m\u001b[0;34m==\u001b[0m\u001b[0;36m1\u001b[0m\u001b[0;34m)\u001b[0m\u001b[0;34m]\u001b[0m\u001b[0;34m\u001b[0m\u001b[0;34m\u001b[0m\u001b[0m\n",
      "\u001b[0;31mIndexError\u001b[0m: too many indices for array: array is 0-dimensional, but 2 were indexed"
     ]
    }
   ],
   "source": [
    "probnonstat_stationary = probnonstat_all[np.where(testing_y==0)]\n",
    "probnonstat_nonstationary = probnonstat_all[np.where(testing_y==1)]"
   ]
  },
  {
   "cell_type": "markdown",
   "id": "0018f6b8",
   "metadata": {
    "id": "0018f6b8"
   },
   "source": [
    "# Histogram of the stationarity index "
   ]
  },
  {
   "cell_type": "code",
   "execution_count": 94,
   "id": "6f743f25",
   "metadata": {
    "id": "6f743f25",
    "outputId": "cb88ab7f-684c-4861-e0a2-afd89f797644"
   },
   "outputs": [
    {
     "data": {
      "text/plain": [
       "(array([  2.,   1.,   2.,   1.,   0.,   2.,   3.,   1.,   6., 320.]),\n",
       " array([0.02274253, 0.12046828, 0.21819402, 0.3159198 , 0.4136455 ,\n",
       "        0.51137125, 0.609097  , 0.70682275, 0.8045485 , 0.90227425,\n",
       "        1.        ], dtype=float32),\n",
       " <BarContainer object of 10 artists>)"
      ]
     },
     "execution_count": 94,
     "metadata": {},
     "output_type": "execute_result"
    },
    {
     "data": {
      "image/png": "[encoded data removed]",
      "text/plain": [
       "<Figure size 432x288 with 1 Axes>"
      ]
     },
     "metadata": {
      "needs_background": "light"
     },
     "output_type": "display_data"
    }
   ],
   "source": [
    "# Histogram of stationarity index (probability that the data is stationary), for stationary testing data. \n",
    "plt.title(\"Prob. for stationary data, When subregions are stationary\")\n",
    "plt.xlabel(\"Probability of stationary\")\n",
    "plt.ylabel(\"Frequency\")\n",
    "plt.hist(prediction[:,0])"
   ]
  },
  {
   "cell_type": "code",
   "execution_count": null,
   "id": "d6c80f66",
   "metadata": {
    "id": "d6c80f66",
    "outputId": "a0e8117a-c7cc-4cdb-f0b6-624c3f2e8482"
   },
   "outputs": [
    {
     "data": {
      "text/plain": [
       "(array([143.,   4.,   1.,   2.,   0.,   0.,   0.,   0.,   1.,   1.]),\n",
       " array([0.        , 0.00283023, 0.00566046, 0.00849069, 0.01132092,\n",
       "        0.01415116, 0.01698139, 0.01981162, 0.02264185, 0.02547208,\n",
       "        0.02830231], dtype=float32),\n",
       " <BarContainer object of 10 artists>)"
      ]
     },
     "execution_count": 66,
     "metadata": {},
     "output_type": "execute_result"
    },
    {
     "data": {
      "image/png": "[encoded data removed]",
      "text/plain": [
       "<Figure size 432x288 with 1 Axes>"
      ]
     },
     "metadata": {
      "needs_background": "light"
     },
     "output_type": "display_data"
    }
   ],
   "source": [
    "# Histogram of stationarity index (probability that the data is stationary), for nonstatoinary testing data. \n",
    "plt.title(\"Prob. for nonstationary data, train:\" + training_label + \" test:\" + test_label)\n",
    "plt.xlabel(\"Probability of stationary\")\n",
    "plt.ylabel(\"Frequency\")\n",
    "plt.hist(1-probnonstat_nonstationary)"
   ]
  },
  {
   "cell_type": "markdown",
   "id": "2ce7e137",
   "metadata": {
    "id": "2ce7e137"
   },
   "source": [
    "# Outline of classification results for test data"
   ]
  },
  {
   "cell_type": "code",
   "execution_count": null,
   "id": "f2bc09c7",
   "metadata": {
    "id": "f2bc09c7"
   },
   "outputs": [],
   "source": [
    "# Result of correct determination\n",
    "prediction_labels = tf.argmax(prediction , 1).numpy()"
   ]
  },
  {
   "cell_type": "code",
   "execution_count": null,
   "id": "bd2f9b64",
   "metadata": {
    "id": "bd2f9b64",
    "outputId": "94df4053-de1a-47ee-d184-9d6605784955"
   },
   "outputs": [
    {
     "name": "stdout",
     "output_type": "stream",
     "text": [
      "TN =  601\n",
      "TP =  152\n",
      "FN =  0\n",
      "FP =  4\n"
     ]
    }
   ],
   "source": [
    "conf_matrix = tf.math.confusion_matrix(tf.convert_to_tensor(testing_y) , tf.convert_to_tensor(prediction_labels))\n",
    "#print(conf_matrix_pratik)\n",
    "\n",
    "# Identifying the type of error (Type I or Type II) \n",
    "\n",
    "true_negatives = conf_matrix[0][0].numpy()\n",
    "true_positives = conf_matrix[1][1].numpy()\n",
    "false_negatives = conf_matrix[1][0].numpy()\n",
    "false_positives = conf_matrix[0][1].numpy()\n",
    "\n",
    "tf.print(\"TN = \" , true_negatives) # Negative = stationary\n",
    "tf.print(\"TP = \" , true_positives) # Positive = nonstationary\n",
    "tf.print(\"FN = \" , false_negatives)\n",
    "tf.print(\"FP = \" , false_positives)"
   ]
  },
  {
   "cell_type": "code",
   "execution_count": null,
   "id": "d8ef2de2",
   "metadata": {
    "id": "d8ef2de2",
    "outputId": "d68623fe-c3c1-4951-9801-042453358979"
   },
   "outputs": [
    {
     "name": "stdout",
     "output_type": "stream",
     "text": [
      "Number of stationary testing samples:  605 ; of which correct identifications: 601\n",
      "Correct stationary =  0.9933884297520661\n",
      "Number of nonstationary testing samples:  152 ; of which correct identifications: 152\n",
      "Correct nonstationary =  1.0\n"
     ]
    }
   ],
   "source": [
    "correct_stationary = true_negatives / (true_negatives + false_positives)\n",
    "correct_nonstationary = true_positives / (true_positives + false_negatives)\n",
    "print(\"Number of stationary testing samples: \", true_negatives + false_positives, \"; of which correct identifications:\", true_negatives)\n",
    "print(\"Correct stationary = \", correct_stationary)\n",
    "print(\"Number of nonstationary testing samples: \", true_positives + false_negatives, \"; of which correct identifications:\", true_positives)\n",
    "print(\"Correct nonstationary = \", correct_nonstationary)"
   ]
  },
  {
   "cell_type": "code",
   "execution_count": null,
   "id": "dd2f39b9",
   "metadata": {
    "id": "dd2f39b9"
   },
   "outputs": [],
   "source": []
  }
 ],
 "metadata": {
  "colab": {
   "name": "CNN_model_0418_Resampling.ipynb",
   "provenance": []
  },
  "kernelspec": {
   "display_name": "Python 3",
   "language": "python",
   "name": "python3"
  },
  "language_info": {
   "codemirror_mode": {
    "name": "ipython",
    "version": 3
   },
   "file_extension": ".py",
   "mimetype": "text/x-python",
   "name": "python",
   "nbconvert_exporter": "python",
   "pygments_lexer": "ipython3",
   "version": "3.6.10"
  }
 },
 "nbformat": 4,
 "nbformat_minor": 5
}
